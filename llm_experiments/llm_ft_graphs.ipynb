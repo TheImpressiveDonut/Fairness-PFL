{
 "cells": [
  {
   "cell_type": "code",
   "id": "initial_id",
   "metadata": {
    "collapsed": true,
    "ExecuteTime": {
     "end_time": "2024-06-14T19:18:10.139862Z",
     "start_time": "2024-06-14T19:18:09.612301Z"
    }
   },
   "source": [
    "import wandb\n",
    "\n",
    "api = wandb.Api()"
   ],
   "outputs": [],
   "execution_count": 2
  },
  {
   "metadata": {
    "ExecuteTime": {
     "end_time": "2024-06-14T19:47:13.844613Z",
     "start_time": "2024-06-14T19:47:13.841798Z"
    }
   },
   "cell_type": "code",
   "source": [
    "project_path = 'Fairness-wiki'\n",
    "runs = api.runs(project_path)\n",
    "\n",
    "for run in runs:\n",
    "    group = run.group\n",
    "    perplexity = run.summary.get('val/perplexity_mean')\n",
    "\n",
    "    print(f\"Run ID: {run.id}, Group: {group}, Perplexity: {perplexity}\")\n"
   ],
   "id": "ae0223a6dc815465",
   "outputs": [
    {
     "name": "stdout",
     "output_type": "stream",
     "text": [
      "Run ID: 35m1hf8x, Group: fed-avg, Perplexity: 125.38703268257866\n",
      "Run ID: izjotjf9, Group: local, Perplexity: 135.97526645931794\n",
      "Run ID: 3uguy0g5, Group: val-sim, Perplexity: 121.67908272395896\n",
      "Run ID: rnt9getz, Group: val-sim-w-penalizer, Perplexity: 118.87917227116688\n",
      "Run ID: raet4p4h, Group: oracle-w-penalizer, Perplexity: 123.42238586984917\n",
      "Run ID: a44zhppu, Group: oracle, Perplexity: 124.9359685497758\n",
      "Run ID: wb1u9fh4, Group: fed-avg, Perplexity: 125.13610597927524\n",
      "Run ID: ndr3qebu, Group: oracle-w-penalizer, Perplexity: 123.4019033603601\n",
      "Run ID: q0wp64ll, Group: local, Perplexity: 139.41872038349513\n",
      "Run ID: adpgk385, Group: val-sim, Perplexity: 118.14233918624667\n",
      "Run ID: h4qt3j2z, Group: val-sim-w-penalizer, Perplexity: 115.10771583763956\n",
      "Run ID: mdkca7m2, Group: oracle, Perplexity: 123.48319169939884\n",
      "Run ID: ddxn5iar, Group: fed-avg, Perplexity: 123.93551102512646\n",
      "Run ID: vug7vrxc, Group: oracle-w-penalizer, Perplexity: 122.94207065871176\n",
      "Run ID: 9yqc0ozz, Group: local, Perplexity: 134.0559919075218\n",
      "Run ID: qsequai3, Group: val-sim-w-penalizer, Perplexity: 111.89935783830916\n",
      "Run ID: znie2jfd, Group: val-sim, Perplexity: 119.20072267114736\n",
      "Run ID: uopn8yq4, Group: oracle, Perplexity: 122.58952456220102\n",
      "Run ID: wwaftada, Group: fed-avg, Perplexity: 128.09357612415735\n",
      "Run ID: lbngzt3w, Group: oracle-w-penalizer, Perplexity: 118.06795004251904\n",
      "Run ID: 0c6pxs94, Group: local, Perplexity: 137.66121889279017\n",
      "Run ID: 83z9dp1j, Group: val-sim, Perplexity: 118.09238458672743\n",
      "Run ID: sbjx97fs, Group: val-sim-w-penalizer, Perplexity: 118.26899814513396\n",
      "Run ID: hv5p8wst, Group: oracle, Perplexity: 121.7946163718833\n",
      "Run ID: lgj3ylzv, Group: fed-avg, Perplexity: 131.92968592151902\n",
      "Run ID: w82phny6, Group: oracle-w-penalizer, Perplexity: 125.474600577213\n",
      "Run ID: nh1to5ed, Group: local, Perplexity: 132.66935595450778\n",
      "Run ID: cvcsfsuz, Group: val-sim, Perplexity: 123.34252819960192\n",
      "Run ID: h376tzm3, Group: val-sim-w-penalizer, Perplexity: 123.58840602031788\n",
      "Run ID: 5ccwf859, Group: oracle, Perplexity: 122.28124774673418\n"
     ]
    }
   ],
   "execution_count": 6
  },
  {
   "metadata": {},
   "cell_type": "code",
   "outputs": [],
   "execution_count": null,
   "source": "",
   "id": "8a973ccb578f3305"
  }
 ],
 "metadata": {
  "kernelspec": {
   "display_name": "Python 3",
   "language": "python",
   "name": "python3"
  },
  "language_info": {
   "codemirror_mode": {
    "name": "ipython",
    "version": 2
   },
   "file_extension": ".py",
   "mimetype": "text/x-python",
   "name": "python",
   "nbconvert_exporter": "python",
   "pygments_lexer": "ipython2",
   "version": "2.7.6"
  }
 },
 "nbformat": 4,
 "nbformat_minor": 5
}
