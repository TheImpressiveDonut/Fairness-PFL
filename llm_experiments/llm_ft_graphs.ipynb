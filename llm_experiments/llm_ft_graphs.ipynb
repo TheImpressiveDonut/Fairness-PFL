{
 "cells": [
  {
   "cell_type": "code",
   "id": "initial_id",
   "metadata": {
    "collapsed": true,
    "ExecuteTime": {
     "end_time": "2024-06-17T18:10:26.160642Z",
     "start_time": "2024-06-17T18:10:26.095143Z"
    }
   },
   "source": [
    "import numpy as np\n",
    "import pandas as pd\n",
    "import wandb\n",
    "import seaborn as sns\n",
    "from matplotlib import pyplot as plt\n",
    "\n",
    "api = wandb.Api()"
   ],
   "outputs": [],
   "execution_count": 97
  },
  {
   "metadata": {
    "ExecuteTime": {
     "end_time": "2024-06-17T18:10:26.555897Z",
     "start_time": "2024-06-17T18:10:26.161989Z"
    }
   },
   "cell_type": "code",
   "source": [
    "project_path = \"Fairness-wiki\"\n",
    "runs = api.runs(project_path)\n",
    "\n",
    "N = 9\n",
    "iterations = 1000\n",
    "metrics = [f\"val/perplexity_{i}\" for i in range(N)]\n",
    "metrics.append(\"val/perplexity_mean\")"
   ],
   "id": "c31a5197adc9d121",
   "outputs": [],
   "execution_count": 98
  },
  {
   "metadata": {
    "ExecuteTime": {
     "end_time": "2024-06-17T18:10:27.081289Z",
     "start_time": "2024-06-17T18:10:26.557164Z"
    }
   },
   "cell_type": "code",
   "source": [
    "run_by_trust = {}\n",
    "\n",
    "for run in runs:\n",
    "    group = run.group\n",
    "    if group not in run_by_trust:\n",
    "        run_by_trust[group] = []\n",
    "    run_by_trust[group].append(run)"
   ],
   "id": "2f484cbd63decb57",
   "outputs": [],
   "execution_count": 99
  },
  {
   "metadata": {
    "ExecuteTime": {
     "end_time": "2024-06-17T18:10:47.855510Z",
     "start_time": "2024-06-17T18:10:27.089617Z"
    }
   },
   "cell_type": "code",
   "source": [
    "metrics_by_trust = {}\n",
    "\n",
    "for trust, runs in run_by_trust.items():\n",
    "    metrics_by_trust[trust] = {}\n",
    "    for metric in metrics:\n",
    "        metrics_by_trust[trust][metric] = np.empty(shape=(len(runs), iterations))\n",
    "    for idx, run in enumerate(runs):\n",
    "        data = run.history(samples=iterations, keys=metrics)\n",
    "        for metric in metrics:\n",
    "            metrics_by_trust[trust][metric][idx, :] = data[metric].to_numpy()"
   ],
   "id": "ae0223a6dc815465",
   "outputs": [],
   "execution_count": 100
  },
  {
   "metadata": {
    "ExecuteTime": {
     "end_time": "2024-06-17T18:10:47.866582Z",
     "start_time": "2024-06-17T18:10:47.858611Z"
    }
   },
   "cell_type": "code",
   "source": [
    "last_pp = {}\n",
    "\n",
    "for trust in metrics_by_trust.keys():\n",
    "    last_pp[trust] = {}\n",
    "    for metric in metrics:\n",
    "        last_pp[trust][metric] = np.min(np.mean(metrics_by_trust[trust][metric], axis=0))"
   ],
   "id": "8a973ccb578f3305",
   "outputs": [],
   "execution_count": 101
  },
  {
   "metadata": {
    "ExecuteTime": {
     "end_time": "2024-06-17T18:19:55.565999Z",
     "start_time": "2024-06-17T18:19:55.554356Z"
    }
   },
   "cell_type": "code",
   "source": [
    "df = pd.DataFrame(last_pp)\n",
    "test = pd.DataFrame()\n",
    "for col in df.columns:\n",
    "    if col != \"local\":\n",
    "        test[f\"Gain {col}\"] = df[\"local\"] - df[col]\n",
    "test[[\"Gain val-sim\", \"Gain val-sim-w-penalizer\"]]"
   ],
   "id": "d635fbcb9df0fa7a",
   "outputs": [
    {
     "data": {
      "text/plain": [
       "                     Gain val-sim  Gain val-sim-w-penalizer\n",
       "val/perplexity_0         3.302120                  3.044520\n",
       "val/perplexity_1         2.383217                  1.038429\n",
       "val/perplexity_2         2.708804                  1.198379\n",
       "val/perplexity_3         3.413751                  2.490498\n",
       "val/perplexity_4         6.127602                  2.818023\n",
       "val/perplexity_5         4.330587                  1.956320\n",
       "val/perplexity_6        13.609152                 12.294129\n",
       "val/perplexity_7        20.477935                 14.697831\n",
       "val/perplexity_8        14.918634                 10.676254\n",
       "val/perplexity_mean      8.668241                  3.957877"
      ],
      "text/html": [
       "<div>\n",
       "<style scoped>\n",
       "    .dataframe tbody tr th:only-of-type {\n",
       "        vertical-align: middle;\n",
       "    }\n",
       "\n",
       "    .dataframe tbody tr th {\n",
       "        vertical-align: top;\n",
       "    }\n",
       "\n",
       "    .dataframe thead th {\n",
       "        text-align: right;\n",
       "    }\n",
       "</style>\n",
       "<table border=\"1\" class=\"dataframe\">\n",
       "  <thead>\n",
       "    <tr style=\"text-align: right;\">\n",
       "      <th></th>\n",
       "      <th>Gain val-sim</th>\n",
       "      <th>Gain val-sim-w-penalizer</th>\n",
       "    </tr>\n",
       "  </thead>\n",
       "  <tbody>\n",
       "    <tr>\n",
       "      <th>val/perplexity_0</th>\n",
       "      <td>3.302120</td>\n",
       "      <td>3.044520</td>\n",
       "    </tr>\n",
       "    <tr>\n",
       "      <th>val/perplexity_1</th>\n",
       "      <td>2.383217</td>\n",
       "      <td>1.038429</td>\n",
       "    </tr>\n",
       "    <tr>\n",
       "      <th>val/perplexity_2</th>\n",
       "      <td>2.708804</td>\n",
       "      <td>1.198379</td>\n",
       "    </tr>\n",
       "    <tr>\n",
       "      <th>val/perplexity_3</th>\n",
       "      <td>3.413751</td>\n",
       "      <td>2.490498</td>\n",
       "    </tr>\n",
       "    <tr>\n",
       "      <th>val/perplexity_4</th>\n",
       "      <td>6.127602</td>\n",
       "      <td>2.818023</td>\n",
       "    </tr>\n",
       "    <tr>\n",
       "      <th>val/perplexity_5</th>\n",
       "      <td>4.330587</td>\n",
       "      <td>1.956320</td>\n",
       "    </tr>\n",
       "    <tr>\n",
       "      <th>val/perplexity_6</th>\n",
       "      <td>13.609152</td>\n",
       "      <td>12.294129</td>\n",
       "    </tr>\n",
       "    <tr>\n",
       "      <th>val/perplexity_7</th>\n",
       "      <td>20.477935</td>\n",
       "      <td>14.697831</td>\n",
       "    </tr>\n",
       "    <tr>\n",
       "      <th>val/perplexity_8</th>\n",
       "      <td>14.918634</td>\n",
       "      <td>10.676254</td>\n",
       "    </tr>\n",
       "    <tr>\n",
       "      <th>val/perplexity_mean</th>\n",
       "      <td>8.668241</td>\n",
       "      <td>3.957877</td>\n",
       "    </tr>\n",
       "  </tbody>\n",
       "</table>\n",
       "</div>"
      ]
     },
     "execution_count": 112,
     "metadata": {},
     "output_type": "execute_result"
    }
   ],
   "execution_count": 112
  }
 ],
 "metadata": {
  "kernelspec": {
   "display_name": "Python 3",
   "language": "python",
   "name": "python3"
  },
  "language_info": {
   "codemirror_mode": {
    "name": "ipython",
    "version": 2
   },
   "file_extension": ".py",
   "mimetype": "text/x-python",
   "name": "python",
   "nbconvert_exporter": "python",
   "pygments_lexer": "ipython2",
   "version": "2.7.6"
  }
 },
 "nbformat": 4,
 "nbformat_minor": 5
}
