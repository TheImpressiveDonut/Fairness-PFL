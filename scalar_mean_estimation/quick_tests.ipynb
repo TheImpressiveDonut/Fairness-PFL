{
 "cells": [
  {
   "cell_type": "code",
   "id": "initial_id",
   "metadata": {
    "collapsed": true,
    "ExecuteTime": {
     "end_time": "2024-06-17T21:47:29.574386Z",
     "start_time": "2024-06-17T21:47:29.571008Z"
    }
   },
   "source": [
    "import numpy as np\n",
    "import seaborn as sns"
   ],
   "outputs": [],
   "execution_count": 83
  },
  {
   "metadata": {
    "ExecuteTime": {
     "end_time": "2024-06-17T21:46:16.843012Z",
     "start_time": "2024-06-17T21:46:16.834372Z"
    }
   },
   "cell_type": "code",
   "source": [
    "N = 10\n",
    "mus = np.random.random(size=N) * 50 + 50\n",
    "sigmas = np.random.random(size=N)\n",
    "n_i = np.random.randint(1, 100, size=N)\n",
    "samples = [np.random.normal(mus[i], sigmas[i], size=n_i[i]) for i in range(N)]\n",
    "mus, sigmas, n_i"
   ],
   "id": "d825422cf4e46962",
   "outputs": [
    {
     "data": {
      "text/plain": [
       "(array([61.2482725 , 60.55715807, 85.66155158, 89.03093016, 76.07761668,\n",
       "        93.86485052, 69.59065104, 68.84422938, 81.66186803, 90.0442083 ]),\n",
       " array([0.40066378, 0.23587474, 0.94070764, 0.53379334, 0.26228516,\n",
       "        0.43357144, 0.77159093, 0.06278571, 0.22750503, 0.92141557]),\n",
       " array([13, 75, 26, 36, 69, 58, 29, 69,  4, 75]))"
      ]
     },
     "execution_count": 71,
     "metadata": {},
     "output_type": "execute_result"
    }
   ],
   "execution_count": 71
  },
  {
   "metadata": {
    "ExecuteTime": {
     "end_time": "2024-06-17T21:48:14.217376Z",
     "start_time": "2024-06-17T21:48:14.211511Z"
    }
   },
   "cell_type": "code",
   "source": [
    "local_mse = (sigmas ** 2 / n_i)\n",
    "local_mse"
   ],
   "id": "c7e7bdacc4c30740",
   "outputs": [
    {
     "data": {
      "text/plain": [
       "array([1.23485744e-02, 7.41825251e-04, 3.40358023e-02, 7.91487031e-03,\n",
       "       9.97007313e-04, 3.24110682e-03, 2.05293986e-02, 5.71310908e-05,\n",
       "       1.29396346e-02, 1.13200887e-02])"
      ]
     },
     "execution_count": 86,
     "metadata": {},
     "output_type": "execute_result"
    }
   ],
   "execution_count": 86
  },
  {
   "metadata": {
    "ExecuteTime": {
     "end_time": "2024-06-17T21:46:16.860510Z",
     "start_time": "2024-06-17T21:46:16.854565Z"
    }
   },
   "cell_type": "code",
   "source": [
    "big_E = (mus ** 2 / (sigmas ** 2 / n_i)).sum() + 1\n",
    "emse = mus ** 2 / big_E\n",
    "emse"
   ],
   "id": "5745013e995fb188",
   "outputs": [
    {
     "data": {
      "text/plain": [
       "array([3.77345586e-05, 3.68877833e-05, 7.38114028e-05, 7.97321377e-05,\n",
       "       5.82190862e-05, 8.86252702e-05, 4.87139544e-05, 4.76745577e-05,\n",
       "       6.70795603e-05, 8.15573591e-05])"
      ]
     },
     "execution_count": 73,
     "metadata": {},
     "output_type": "execute_result"
    }
   ],
   "execution_count": 73
  },
  {
   "metadata": {
    "ExecuteTime": {
     "end_time": "2024-06-17T21:46:16.870848Z",
     "start_time": "2024-06-17T21:46:16.862061Z"
    }
   },
   "cell_type": "code",
   "source": [
    "C = mus.reshape((N, 1)) @ mus.reshape((N, 1)).T\n",
    "W = C @ np.linalg.inv(C + np.eye(N) * (sigmas ** 2 / n_i))\n",
    "\n",
    "P_SM = np.array([np.mean(samples[i]).item() for i in range(N)])\n",
    "mse = ((W * P_SM).sum(axis=1) - mus) ** 2\n",
    "mse"
   ],
   "id": "bdb6ed4dc657949c",
   "outputs": [
    {
     "data": {
      "text/plain": [
       "array([5.83451672e-07, 5.70213697e-07, 1.14072533e-06, 1.23218189e-06,\n",
       "       8.99818716e-07, 1.36948276e-06, 7.52891701e-07, 7.36874835e-07,\n",
       "       1.03696999e-06, 1.26050150e-06])"
      ]
     },
     "execution_count": 74,
     "metadata": {},
     "output_type": "execute_result"
    }
   ],
   "execution_count": 74
  },
  {
   "metadata": {
    "ExecuteTime": {
     "end_time": "2024-06-17T21:46:16.889556Z",
     "start_time": "2024-06-17T21:46:16.882372Z"
    }
   },
   "cell_type": "code",
   "source": [
    "contribution = (np.abs(W.T) - np.abs(W)).sum(axis=1)\n",
    "contribution"
   ],
   "id": "db6ca4f0a0d11d70",
   "outputs": [
    {
     "data": {
      "text/plain": [
       "array([-0.84122015, -0.23235635, -1.21105497, -1.19125469, -0.49695128,\n",
       "       -1.12234455, -0.97334192,  8.42402163, -1.12395227, -1.23154546])"
      ]
     },
     "execution_count": 76,
     "metadata": {},
     "output_type": "execute_result"
    }
   ],
   "execution_count": 76
  },
  {
   "metadata": {
    "ExecuteTime": {
     "end_time": "2024-06-17T21:50:07.058248Z",
     "start_time": "2024-06-17T21:50:07.052010Z"
    }
   },
   "cell_type": "code",
   "source": [
    "C_vec = -contribution\n",
    "C_vec -= C_vec.min()\n",
    "C_vec /= C_vec.max()\n",
    "C_vec"
   ],
   "id": "e7364a584d14b6d5",
   "outputs": [
    {
     "data": {
      "text/plain": [
       "array([0.9595751 , 0.89651679, 0.99787786, 0.9958272 , 0.92392014,\n",
       "       0.98869037, 0.97325858, 0.        , 0.98885688, 1.        ])"
      ]
     },
     "execution_count": 92,
     "metadata": {},
     "output_type": "execute_result"
    }
   ],
   "execution_count": 92
  },
  {
   "metadata": {
    "ExecuteTime": {
     "end_time": "2024-06-17T21:50:57.010484Z",
     "start_time": "2024-06-17T21:50:57.004115Z"
    }
   },
   "cell_type": "code",
   "source": [
    "min_contr = np.argmax(C_vec)\n",
    "scale = 1 - (mse[min_contr].item() * (n_i[min_contr].item() / sigmas[min_contr].item() ** 2)) - 0.001\n",
    "scale"
   ],
   "id": "c9e9e1fb99af3f84",
   "outputs": [
    {
     "data": {
      "text/plain": [
       "0.9988886491497156"
      ]
     },
     "execution_count": 101,
     "metadata": {},
     "output_type": "execute_result"
    }
   ],
   "execution_count": 101
  },
  {
   "metadata": {
    "ExecuteTime": {
     "end_time": "2024-06-17T21:50:57.362216Z",
     "start_time": "2024-06-17T21:50:57.356203Z"
    }
   },
   "cell_type": "code",
   "source": [
    "pen = (C_vec * scale) * (sigmas ** 2 / n_i)\n",
    "pen"
   ],
   "id": "a80911ce7e004d28",
   "outputs": [
    {
     "data": {
      "text/plain": [
       "array([0.01183622, 0.00066432, 0.03392583, 0.00787308, 0.00092013,\n",
       "       0.00320089, 0.01995821, 0.        , 0.01278123, 0.01130751])"
      ]
     },
     "execution_count": 102,
     "metadata": {},
     "output_type": "execute_result"
    }
   ],
   "execution_count": 102
  },
  {
   "metadata": {
    "ExecuteTime": {
     "end_time": "2024-06-17T21:50:57.608895Z",
     "start_time": "2024-06-17T21:50:57.602997Z"
    }
   },
   "cell_type": "code",
   "source": [
    "emse_pen = mus ** 2 / big_E + pen\n",
    "emse_pen"
   ],
   "id": "efde789c7ba29f7d",
   "outputs": [
    {
     "data": {
      "text/plain": [
       "array([1.18739503e-02, 7.01207460e-04, 3.39996395e-02, 7.95281576e-03,\n",
       "       9.78350497e-04, 3.28951510e-03, 2.00069221e-02, 4.76745577e-05,\n",
       "       1.28483060e-02, 1.13890655e-02])"
      ]
     },
     "execution_count": 103,
     "metadata": {},
     "output_type": "execute_result"
    }
   ],
   "execution_count": 103
  },
  {
   "metadata": {
    "ExecuteTime": {
     "end_time": "2024-06-17T21:50:57.852155Z",
     "start_time": "2024-06-17T21:50:57.846176Z"
    }
   },
   "cell_type": "code",
   "source": [
    "utility = lambda x: -x\n",
    "\n",
    "gain = utility(emse_pen) - utility(local_mse)\n",
    "gain"
   ],
   "id": "23bcfcc7c472793e",
   "outputs": [
    {
     "data": {
      "text/plain": [
       "array([ 4.74624113e-04,  4.06177914e-05,  3.61628518e-05, -3.79454561e-05,\n",
       "        1.86568158e-05, -4.84082746e-05,  5.22476493e-04,  9.45653307e-06,\n",
       "        9.13286356e-05, -6.89767689e-05])"
      ]
     },
     "execution_count": 104,
     "metadata": {},
     "output_type": "execute_result"
    }
   ],
   "execution_count": 104
  },
  {
   "metadata": {
    "ExecuteTime": {
     "end_time": "2024-06-17T21:50:58.886293Z",
     "start_time": "2024-06-17T21:50:58.606995Z"
    }
   },
   "cell_type": "code",
   "source": [
    "x, y = C_vec, gain\n",
    "sns.scatterplot(x=x, y=y)"
   ],
   "id": "7ed54308f1fd3b7",
   "outputs": [
    {
     "data": {
      "text/plain": [
       "<Axes: >"
      ]
     },
     "execution_count": 105,
     "metadata": {},
     "output_type": "execute_result"
    },
    {
     "data": {
      "text/plain": [
       "<Figure size 640x480 with 1 Axes>"
      ],
      "image/png": "[encoded data removed]"
     },
     "metadata": {},
     "output_type": "display_data"
    }
   ],
   "execution_count": 105
  },
  {
   "metadata": {},
   "cell_type": "code",
   "outputs": [],
   "execution_count": null,
   "source": "",
   "id": "af1bdbb9c34b9948"
  }
 ],
 "metadata": {
  "kernelspec": {
   "display_name": "Python 3",
   "language": "python",
   "name": "python3"
  },
  "language_info": {
   "codemirror_mode": {
    "name": "ipython",
    "version": 2
   },
   "file_extension": ".py",
   "mimetype": "text/x-python",
   "name": "python",
   "nbconvert_exporter": "python",
   "pygments_lexer": "ipython2",
   "version": "2.7.6"
  }
 },
 "nbformat": 4,
 "nbformat_minor": 5
}
