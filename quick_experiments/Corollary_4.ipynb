{
 "cells": [
  {
   "metadata": {
    "ExecuteTime": {
     "end_time": "2024-06-11T08:47:04.959605Z",
     "start_time": "2024-06-11T08:47:04.956819Z"
    }
   },
   "cell_type": "code",
   "source": [
    "import numpy as np\n",
    "from tqdm.notebook import tqdm"
   ],
   "id": "1939fac2815244c0",
   "outputs": [],
   "execution_count": 32
  },
  {
   "cell_type": "code",
   "id": "initial_id",
   "metadata": {
    "collapsed": true,
    "ExecuteTime": {
     "end_time": "2024-06-11T08:47:04.967104Z",
     "start_time": "2024-06-11T08:47:04.960968Z"
    }
   },
   "source": [
    "def test_corollary_4_2_with_normal_scalar_mean_est() -> None:\n",
    "    N = np.random.randint(2, 100)\n",
    "    mus = np.random.random(size=N) * 50 + 50\n",
    "    sigmas = np.random.random(size=N)\n",
    "    n_i = np.random.randint(1, 100, size=N)\n",
    "    samples = [np.random.normal(mus[i], sigmas[i], size=n_i[i]) for i in range(N)]\n",
    "\n",
    "    C = mus.reshape((N, 1)) @ mus.reshape((N, 1)).T\n",
    "    W = C @ np.linalg.inv(C + np.eye(N) * (sigmas ** 2 / n_i))\n",
    "\n",
    "    P_SM = np.array([np.mean(samples[i]).item() for i in range(N)])\n",
    "    agg = (W * P_SM).sum(axis=1)\n",
    "    mse = (agg - mus) ** 2\n",
    "    \n",
    "    E = (mus ** 2 / (sigmas ** 2 / n_i)).sum() + 1\n",
    "    emse = mus ** 2 / E\n",
    "    \n",
    "    return ((emse - mse) ** 2).max()"
   ],
   "outputs": [],
   "execution_count": 33
  },
  {
   "metadata": {
    "ExecuteTime": {
     "end_time": "2024-06-11T08:52:49.418389Z",
     "start_time": "2024-06-11T08:47:04.967858Z"
    }
   },
   "cell_type": "code",
   "source": [
    "diffs = []\n",
    "for _ in tqdm(range(1000000)):\n",
    "    diff = test_corollary_4_2_with_normal_scalar_mean_est()\n",
    "    diffs.append(diff)"
   ],
   "id": "80b16f78b464ea3a",
   "outputs": [
    {
     "data": {
      "text/plain": [
       "  0%|          | 0/1000000 [00:00<?, ?it/s]"
      ],
      "application/vnd.jupyter.widget-view+json": {
       "version_major": 2,
       "version_minor": 0,
       "model_id": "5654cdf8d7d141679af49ce35d280766"
      }
     },
     "metadata": {},
     "output_type": "display_data"
    }
   ],
   "execution_count": 34
  },
  {
   "metadata": {
    "ExecuteTime": {
     "end_time": "2024-06-11T08:52:49.692037Z",
     "start_time": "2024-06-11T08:52:49.420280Z"
    }
   },
   "cell_type": "code",
   "source": "print(f\"Max diff: {np.max(diffs)}\\nMedian diff: {np.median(diffs)}\\nMax diff 99%: {np.max(np.sort(diffs)[:int(len(diffs) * 0.99)])}\\nMax diff 90%: {np.max(np.sort(diffs)[:int(len(diffs) * 0.90)])}\")",
   "id": "ec6bb8ecc81fc86",
   "outputs": [
    {
     "name": "stdout",
     "output_type": "stream",
     "text": [
      "Max diff: 85222157.29369135\n",
      "Median diff: 1.427772645650066e-11\n",
      "Max diff 99%: 4.968091797835584e-06\n",
      "Max diff 90%: 9.687420322582505e-09\n"
     ]
    }
   ],
   "execution_count": 35
  },
  {
   "metadata": {
    "ExecuteTime": {
     "end_time": "2024-06-11T08:52:49.694908Z",
     "start_time": "2024-06-11T08:52:49.692921Z"
    }
   },
   "cell_type": "code",
   "source": "",
   "id": "8f7339c454772925",
   "outputs": [],
   "execution_count": 35
  }
 ],
 "metadata": {
  "kernelspec": {
   "display_name": "Python 3",
   "language": "python",
   "name": "python3"
  },
  "language_info": {
   "codemirror_mode": {
    "name": "ipython",
    "version": 2
   },
   "file_extension": ".py",
   "mimetype": "text/x-python",
   "name": "python",
   "nbconvert_exporter": "python",
   "pygments_lexer": "ipython2",
   "version": "2.7.6"
  }
 },
 "nbformat": 4,
 "nbformat_minor": 5
}
