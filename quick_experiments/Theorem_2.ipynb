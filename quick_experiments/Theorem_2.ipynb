{
 "cells": [
  {
   "metadata": {
    "ExecuteTime": {
     "end_time": "2024-06-10T14:21:07.349435Z",
     "start_time": "2024-06-10T14:21:07.347416Z"
    }
   },
   "cell_type": "code",
   "source": [
    "import numpy as np\n",
    "from tqdm.notebook import tqdm"
   ],
   "id": "1088cc1876030cf4",
   "outputs": [],
   "execution_count": 6
  },
  {
   "metadata": {
    "ExecuteTime": {
     "end_time": "2024-06-10T14:58:42.303172Z",
     "start_time": "2024-06-10T14:58:42.299977Z"
    }
   },
   "cell_type": "code",
   "source": [
    "def verify_theorem_2() -> None:\n",
    "    N = np.random.randint(2, 100)\n",
    "    D = np.random.randint(2, 100)\n",
    "    v = np.random.randn(N)\n",
    "    v /= np.linalg.norm(v)\n",
    "    betas = np.outer(v, np.random.randn(D))\n",
    "    betas_opt = betas - np.random.random(size=(N, D))\n",
    "    var = np.random.random(size=(N, 1))\n",
    "    \n",
    "    K = betas_opt @ betas.T\n",
    "    C = betas @ betas.T\n",
    "    V = np.eye(N) * var\n",
    "    W = K @ np.linalg.inv(C + V)\n",
    "    \n",
    "    W_element_wise = np.empty(shape=(N, N))\n",
    "    E = 1 + (np.linalg.norm(betas, axis=1).reshape(N, 1) ** 2 / var).sum()\n",
    "    \n",
    "    for i in range(N):\n",
    "        for j in range(N):\n",
    "            W_element_wise[i, j] = np.dot(betas_opt[i], betas[j]).item() / var[j].item()\n",
    "            \n",
    "    W_element_wise /= E    \n",
    "    assert np.allclose(W, W_element_wise), f\"{W} != {W_element_wise}\""
   ],
   "id": "29f5c39700dda53a",
   "outputs": [],
   "execution_count": 76
  },
  {
   "metadata": {
    "ExecuteTime": {
     "end_time": "2024-06-10T14:58:43.326943Z",
     "start_time": "2024-06-10T14:58:43.324011Z"
    }
   },
   "cell_type": "code",
   "source": "verify_theorem_2()",
   "id": "2a722bcc4a98e18a",
   "outputs": [],
   "execution_count": 78
  },
  {
   "metadata": {
    "ExecuteTime": {
     "end_time": "2024-06-10T14:59:22.019006Z",
     "start_time": "2024-06-10T14:58:43.567852Z"
    }
   },
   "cell_type": "code",
   "source": [
    "for _ in tqdm(range(10000)):\n",
    "    verify_theorem_2()"
   ],
   "id": "a1794ec7b0c59203",
   "outputs": [
    {
     "data": {
      "text/plain": [
       "  0%|          | 0/10000 [00:00<?, ?it/s]"
      ],
      "application/vnd.jupyter.widget-view+json": {
       "version_major": 2,
       "version_minor": 0,
       "model_id": "1f0307966299480085a73d3ee9161d6c"
      }
     },
     "metadata": {},
     "output_type": "display_data"
    }
   ],
   "execution_count": 79
  }
 ],
 "metadata": {
  "kernelspec": {
   "display_name": "Python 3",
   "language": "python",
   "name": "python3"
  },
  "language_info": {
   "codemirror_mode": {
    "name": "ipython",
    "version": 2
   },
   "file_extension": ".py",
   "mimetype": "text/x-python",
   "name": "python",
   "nbconvert_exporter": "python",
   "pygments_lexer": "ipython2",
   "version": "2.7.6"
  }
 },
 "nbformat": 4,
 "nbformat_minor": 5
}
