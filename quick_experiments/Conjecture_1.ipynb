{
 "cells": [
  {
   "cell_type": "code",
   "id": "initial_id",
   "metadata": {
    "collapsed": true,
    "ExecuteTime": {
     "end_time": "2024-06-10T17:24:42.962214Z",
     "start_time": "2024-06-10T17:24:42.885611Z"
    }
   },
   "source": [
    "from itertools import combinations\n",
    "from typing import List, Tuple\n",
    "\n",
    "import numpy as np\n",
    "from tqdm.notebook import tqdm"
   ],
   "outputs": [],
   "execution_count": 1
  },
  {
   "metadata": {
    "ExecuteTime": {
     "end_time": "2024-06-10T17:24:43.599103Z",
     "start_time": "2024-06-10T17:24:43.594127Z"
    }
   },
   "cell_type": "code",
   "source": [
    "def element_comb_val(comb: Tuple[int], i: int, j: int, N: int, D: int, betas_opt: np.ndarray, betas: np.ndarray, var: np.ndarray) -> float:\n",
    "    res = 1.\n",
    "    for idx in comb:\n",
    "        res *= var[idx]\n",
    "    \n",
    "    not_comb_j = [idx for idx in range(N) if idx not in comb and idx != j]\n",
    "    \n",
    "    LHS = np.concatenate([betas_opt[i, :].reshape(1, D), betas[not_comb_j, :]])\n",
    "    RHS = np.concatenate([betas[j, :].reshape(1, D), betas[not_comb_j, :]])\n",
    "    \n",
    "    #print(f\"comb: {comb}\", i, j, LHS.shape, RHS.shape, f\"comb_i: {i},{not_comb_j}\", f\"comb_j: {j},{not_comb_j}\")\n",
    "    \n",
    "    return res * np.linalg.det(LHS @ RHS.T)\n",
    "    \n",
    "\n",
    "def element_wise_val(S: List[int], i: int, j: int, N: int, D: int, betas_opt: np.ndarray, betas: np.ndarray, var: np.ndarray) -> float:\n",
    "    sum = 0.\n",
    "    for k in range(len(S) + 1):\n",
    "        for comb in combinations(S, k):\n",
    "            sum += element_comb_val(comb, i, j, N, D, betas_opt, betas, var)\n",
    "    return sum.item()\n",
    "    \n",
    "\n",
    "def verify_conjecture_1() -> None:\n",
    "    N = np.random.randint(2, 10)\n",
    "    D = np.random.randint(1, 100)\n",
    "    betas_opt = np.random.random(size=(N, D))\n",
    "    betas = betas_opt + np.random.random(size=(N, D))\n",
    "    var = np.random.random(size=(N, 1))\n",
    "    \n",
    "    K = betas_opt @ betas.T\n",
    "    C = betas @ betas.T\n",
    "    V = np.eye(N) * var\n",
    "    W = K @ np.linalg.inv(C + V)\n",
    "    \n",
    "    W_element_wise = np.empty(shape=(N, N))\n",
    "    det = 0.\n",
    "    det_S = list(range(N))\n",
    "    for k in range(len(det_S) + 1):\n",
    "        for comb in combinations(det_S, k):\n",
    "            res = 1.\n",
    "            for idx in comb:\n",
    "                res *= var[idx]\n",
    "                \n",
    "            not_comb = [idx for idx in range(N) if idx not in comb]\n",
    "            det += (res * np.linalg.det(betas[not_comb, :] @ betas[not_comb, :].T))\n",
    "    det = det.item()\n",
    "    \n",
    "    for i in range(N):\n",
    "        for j in range(N):\n",
    "            S = [idx for idx in range(N) if idx != j]\n",
    "            W_element_wise[i, j] = element_wise_val(S, i, j, N, D, betas_opt, betas, var)\n",
    "    \n",
    "    W_element_wise /= det\n",
    "    \n",
    "    assert np.allclose(W, W_element_wise), f\"N: {N}, D: {D}, W_element_wise: {W_element_wise}, W: {W}\""
   ],
   "id": "910a7fd01d572c01",
   "outputs": [],
   "execution_count": 2
  },
  {
   "metadata": {
    "ExecuteTime": {
     "end_time": "2024-06-10T17:24:57.664696Z",
     "start_time": "2024-06-10T17:24:44.257884Z"
    }
   },
   "cell_type": "code",
   "source": [
    "for _ in tqdm(range(1000000)):\n",
    "    verify_conjecture_1()"
   ],
   "id": "4a2e11a96dfefc6",
   "outputs": [
    {
     "data": {
      "text/plain": [
       "  0%|          | 0/1000000 [00:00<?, ?it/s]"
      ],
      "application/vnd.jupyter.widget-view+json": {
       "version_major": 2,
       "version_minor": 0,
       "model_id": "0c0aa42ac70d41148e6f1230ec973a74"
      }
     },
     "metadata": {},
     "output_type": "display_data"
    },
    {
     "ename": "KeyboardInterrupt",
     "evalue": "",
     "output_type": "error",
     "traceback": [
      "\u001B[0;31m---------------------------------------------------------------------------\u001B[0m",
      "\u001B[0;31mKeyboardInterrupt\u001B[0m                         Traceback (most recent call last)",
      "Cell \u001B[0;32mIn[3], line 2\u001B[0m\n\u001B[1;32m      1\u001B[0m \u001B[38;5;28;01mfor\u001B[39;00m _ \u001B[38;5;129;01min\u001B[39;00m tqdm(\u001B[38;5;28mrange\u001B[39m(\u001B[38;5;241m1000000\u001B[39m)):\n\u001B[0;32m----> 2\u001B[0m     verify_conjecture_1()\n",
      "Cell \u001B[0;32mIn[2], line 53\u001B[0m, in \u001B[0;36mverify_conjecture_1\u001B[0;34m()\u001B[0m\n\u001B[1;32m     51\u001B[0m     \u001B[38;5;28;01mfor\u001B[39;00m j \u001B[38;5;129;01min\u001B[39;00m \u001B[38;5;28mrange\u001B[39m(N):\n\u001B[1;32m     52\u001B[0m         S \u001B[38;5;241m=\u001B[39m [idx \u001B[38;5;28;01mfor\u001B[39;00m idx \u001B[38;5;129;01min\u001B[39;00m \u001B[38;5;28mrange\u001B[39m(N) \u001B[38;5;28;01mif\u001B[39;00m idx \u001B[38;5;241m!=\u001B[39m j]\n\u001B[0;32m---> 53\u001B[0m         W_element_wise[i, j] \u001B[38;5;241m=\u001B[39m element_wise_val(S, i, j, N, D, betas_opt, betas, var)\n\u001B[1;32m     55\u001B[0m W_element_wise \u001B[38;5;241m/\u001B[39m\u001B[38;5;241m=\u001B[39m det\n\u001B[1;32m     57\u001B[0m \u001B[38;5;28;01massert\u001B[39;00m np\u001B[38;5;241m.\u001B[39mallclose(W, W_element_wise), \u001B[38;5;124mf\u001B[39m\u001B[38;5;124m\"\u001B[39m\u001B[38;5;124mN: \u001B[39m\u001B[38;5;132;01m{\u001B[39;00mN\u001B[38;5;132;01m}\u001B[39;00m\u001B[38;5;124m, D: \u001B[39m\u001B[38;5;132;01m{\u001B[39;00mD\u001B[38;5;132;01m}\u001B[39;00m\u001B[38;5;124m, W_element_wise: \u001B[39m\u001B[38;5;132;01m{\u001B[39;00mW_element_wise\u001B[38;5;132;01m}\u001B[39;00m\u001B[38;5;124m, W: \u001B[39m\u001B[38;5;132;01m{\u001B[39;00mW\u001B[38;5;132;01m}\u001B[39;00m\u001B[38;5;124m\"\u001B[39m\n",
      "Cell \u001B[0;32mIn[2], line 20\u001B[0m, in \u001B[0;36melement_wise_val\u001B[0;34m(S, i, j, N, D, betas_opt, betas, var)\u001B[0m\n\u001B[1;32m     18\u001B[0m \u001B[38;5;28;01mfor\u001B[39;00m k \u001B[38;5;129;01min\u001B[39;00m \u001B[38;5;28mrange\u001B[39m(\u001B[38;5;28mlen\u001B[39m(S) \u001B[38;5;241m+\u001B[39m \u001B[38;5;241m1\u001B[39m):\n\u001B[1;32m     19\u001B[0m     \u001B[38;5;28;01mfor\u001B[39;00m comb \u001B[38;5;129;01min\u001B[39;00m combinations(S, k):\n\u001B[0;32m---> 20\u001B[0m         \u001B[38;5;28msum\u001B[39m \u001B[38;5;241m+\u001B[39m\u001B[38;5;241m=\u001B[39m element_comb_val(comb, i, j, N, D, betas_opt, betas, var)\n\u001B[1;32m     21\u001B[0m \u001B[38;5;28;01mreturn\u001B[39;00m \u001B[38;5;28msum\u001B[39m\u001B[38;5;241m.\u001B[39mitem()\n",
      "Cell \u001B[0;32mIn[2], line 8\u001B[0m, in \u001B[0;36melement_comb_val\u001B[0;34m(comb, i, j, N, D, betas_opt, betas, var)\u001B[0m\n\u001B[1;32m      4\u001B[0m     res \u001B[38;5;241m*\u001B[39m\u001B[38;5;241m=\u001B[39m var[idx]\n\u001B[1;32m      6\u001B[0m not_comb_j \u001B[38;5;241m=\u001B[39m [idx \u001B[38;5;28;01mfor\u001B[39;00m idx \u001B[38;5;129;01min\u001B[39;00m \u001B[38;5;28mrange\u001B[39m(N) \u001B[38;5;28;01mif\u001B[39;00m idx \u001B[38;5;129;01mnot\u001B[39;00m \u001B[38;5;129;01min\u001B[39;00m comb \u001B[38;5;129;01mand\u001B[39;00m idx \u001B[38;5;241m!=\u001B[39m j]\n\u001B[0;32m----> 8\u001B[0m LHS \u001B[38;5;241m=\u001B[39m np\u001B[38;5;241m.\u001B[39mconcatenate([betas_opt[i, :]\u001B[38;5;241m.\u001B[39mreshape(\u001B[38;5;241m1\u001B[39m, D), betas[not_comb_j, :]])\n\u001B[1;32m      9\u001B[0m RHS \u001B[38;5;241m=\u001B[39m np\u001B[38;5;241m.\u001B[39mconcatenate([betas[j, :]\u001B[38;5;241m.\u001B[39mreshape(\u001B[38;5;241m1\u001B[39m, D), betas[not_comb_j, :]])\n\u001B[1;32m     11\u001B[0m \u001B[38;5;66;03m#print(f\"comb: {comb}\", i, j, LHS.shape, RHS.shape, f\"comb_i: {i},{not_comb_j}\", f\"comb_j: {j},{not_comb_j}\")\u001B[39;00m\n",
      "File \u001B[0;32m~/miniconda3/envs/fair-pfl/lib/python3.12/site-packages/numpy/core/multiarray.py:153\u001B[0m, in \u001B[0;36mconcatenate\u001B[0;34m(arrays, axis, out, dtype, casting)\u001B[0m\n\u001B[1;32m     87\u001B[0m \u001B[38;5;250m    \u001B[39m\u001B[38;5;124;03m\"\"\"\u001B[39;00m\n\u001B[1;32m     88\u001B[0m \u001B[38;5;124;03m    empty_like(prototype, dtype=None, order='K', subok=True, shape=None)\u001B[39;00m\n\u001B[1;32m     89\u001B[0m \n\u001B[0;32m   (...)\u001B[0m\n\u001B[1;32m    148\u001B[0m \n\u001B[1;32m    149\u001B[0m \u001B[38;5;124;03m    \"\"\"\u001B[39;00m\n\u001B[1;32m    150\u001B[0m     \u001B[38;5;28;01mreturn\u001B[39;00m (prototype,)\n\u001B[0;32m--> 153\u001B[0m \u001B[38;5;129m@array_function_from_c_func_and_dispatcher\u001B[39m(_multiarray_umath\u001B[38;5;241m.\u001B[39mconcatenate)\n\u001B[1;32m    154\u001B[0m \u001B[38;5;28;01mdef\u001B[39;00m \u001B[38;5;21mconcatenate\u001B[39m(arrays, axis\u001B[38;5;241m=\u001B[39m\u001B[38;5;28;01mNone\u001B[39;00m, out\u001B[38;5;241m=\u001B[39m\u001B[38;5;28;01mNone\u001B[39;00m, \u001B[38;5;241m*\u001B[39m, dtype\u001B[38;5;241m=\u001B[39m\u001B[38;5;28;01mNone\u001B[39;00m, casting\u001B[38;5;241m=\u001B[39m\u001B[38;5;28;01mNone\u001B[39;00m):\n\u001B[1;32m    155\u001B[0m \u001B[38;5;250m    \u001B[39m\u001B[38;5;124;03m\"\"\"\u001B[39;00m\n\u001B[1;32m    156\u001B[0m \u001B[38;5;124;03m    concatenate((a1, a2, ...), axis=0, out=None, dtype=None, casting=\"same_kind\")\u001B[39;00m\n\u001B[1;32m    157\u001B[0m \n\u001B[0;32m   (...)\u001B[0m\n\u001B[1;32m    245\u001B[0m \n\u001B[1;32m    246\u001B[0m \u001B[38;5;124;03m    \"\"\"\u001B[39;00m\n\u001B[1;32m    247\u001B[0m     \u001B[38;5;28;01mif\u001B[39;00m out \u001B[38;5;129;01mis\u001B[39;00m \u001B[38;5;129;01mnot\u001B[39;00m \u001B[38;5;28;01mNone\u001B[39;00m:\n\u001B[1;32m    248\u001B[0m         \u001B[38;5;66;03m# optimize for the typical case where only arrays is provided\u001B[39;00m\n",
      "\u001B[0;31mKeyboardInterrupt\u001B[0m: "
     ]
    }
   ],
   "execution_count": 3
  }
 ],
 "metadata": {
  "kernelspec": {
   "display_name": "Python 3",
   "language": "python",
   "name": "python3"
  },
  "language_info": {
   "codemirror_mode": {
    "name": "ipython",
    "version": 2
   },
   "file_extension": ".py",
   "mimetype": "text/x-python",
   "name": "python",
   "nbconvert_exporter": "python",
   "pygments_lexer": "ipython2",
   "version": "2.7.6"
  }
 },
 "nbformat": 4,
 "nbformat_minor": 5
}
